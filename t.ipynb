{
 "cells": [
  {
   "cell_type": "code",
   "execution_count": 10,
   "metadata": {},
   "outputs": [],
   "source": [
    "import torch\n",
    "import os\n",
    "import shutil\n",
    "import pandas as pd\n",
    "import numpy as np\n",
    "\n",
    "# --- 제공해주신 코드의 클래스들을 임포트합니다 ---\n",
    "\n",
    "# 모델 관련\n",
    "from models.model import (GATree, GATreePop, FEATURE_NUM, FEATURE_PAIR, ALL_FEATURES,\n",
    "                   COL_NODE_TYPE, NODE_TYPE_UNUSED)\n",
    "\n",
    "# 변이 연산자 관련\n",
    "from evolution.Mutation.base import BaseMutation\n",
    "from evolution.Mutation.chain import ChainMutation\n",
    "from evolution.Mutation.node_param import NodeParamMutation\n",
    "from evolution.Mutation.reinitialize_node import ReinitializeNodeMutation\n",
    "from evolution.Mutation.add_node import AddNodeMutation\n",
    "from evolution.Mutation.delete_node import DeleteNodeMutation\n",
    "from evolution.Mutation.add_subtree import AddSubtreeMutation\n",
    "from evolution.Mutation.delete_subtree import DeleteSubtreeMutation\n",
    "\n",
    "import data.data_download as data_dd\n",
    "import data.feature_generator as data_fe"
   ]
  },
  {
   "cell_type": "code",
   "execution_count": 41,
   "metadata": {},
   "outputs": [],
   "source": [
    "# df = data_dd.fetch_historical_data('BTCUSDT', '1m', 14)\n",
    "\n",
    "df = pd.read_csv('dataset/btc_1m_t.csv')\n",
    "df['Close time'] = pd.to_datetime(df['Close time'])\n",
    "df = df[['Open', 'High', 'Low', 'Close', 'Volume', 'Close time']]"
   ]
  },
  {
   "cell_type": "code",
   "execution_count": 42,
   "metadata": {},
   "outputs": [],
   "source": [
    "# 1. 추세 (Trend) 지표\n",
    "df, price_col = data_fe.calculate_price_change_features(df)\n",
    "df, ma_col = data_fe.calculate_ma(df, window=14)\n",
    "df, ema_col = data_fe.calculate_ema(df, window=24)\n",
    "df, vwma_col = data_fe.calculate_vwma(df, window=5)\n",
    "df, macd_cols = data_fe.calculate_macd(df, short_window=12, long_window=26, signal_window=9)\n",
    "df, adx_cols = data_fe.calculate_adx(df, window=14)\n",
    "# Ichimoku는 기본값(9, 26, 52)을 사용합니다.\n",
    "df, ichimoku_cols = data_fe.calculate_ichimoku(df) \n",
    "\n",
    "# 2. 모멘텀 (Momentum) 지표\n",
    "df, rsi_col = data_fe.calculate_rsi(df, window=14)\n",
    "df, stoch_cols = data_fe.calculate_stochastic_oscillator(df, k_window=14, d_window=3)\n",
    "df, williams_r_col = data_fe.calculate_williams_r(df, window=14)\n",
    "# CCI는 기본 상수값(0.015)을 사용합니다.\n",
    "df, cci_col = data_fe.calculate_cci(df, window=20)\n",
    "\n",
    "# 3. 변동성 (Volatility) 지표\n",
    "# Bollinger Bands는 기본 표준편차(2)를 사용합니다.\n",
    "df, bb_cols = data_fe.calculate_bollinger_bands(df, window=20, num_std=2)\n",
    "df, atr_col = data_fe.calculate_atr(df, window=14)\n",
    "\n",
    "# 4. 거래량 (Volume) 지표\n",
    "df, obv_col = data_fe.calculate_obv(df)\n",
    "df, cmf_col = data_fe.calculate_cmf(df, window=20)\n",
    "\n",
    "# 5. 시간 기반 피처\n",
    "# 이 함수를 사용하려면 'Timestamp' 컬럼이 datetime 형식이어야 합니다.\n",
    "# df['Timestamp'] = pd.to_datetime(df['Timestamp'])\n",
    "df, time_day_cols = data_fe.cyclic_encode_fn(df, timestamp_col='Close time', cycle='minute_of_day')\n",
    "df, time_week_cols = data_fe.cyclic_encode_fn(df, timestamp_col='Close time', cycle='day_of_week')\n",
    "\n",
    "# 7. 지지 (Support) 및 저항 (Resistance) 지표\n",
    "df, sr_cols = data_fe.calculate_support_resistance(df, window=14)"
   ]
  },
  {
   "cell_type": "code",
   "execution_count": 52,
   "metadata": {},
   "outputs": [
    {
     "data": {
      "text/plain": [
       "['CCI_20_0.015']"
      ]
     },
     "execution_count": 52,
     "metadata": {},
     "output_type": "execute_result"
    }
   ],
   "source": [
    "cci_col"
   ]
  },
  {
   "cell_type": "code",
   "execution_count": null,
   "metadata": {},
   "outputs": [],
   "source": []
  }
 ],
 "metadata": {
  "kernelspec": {
   "display_name": "ga_tree",
   "language": "python",
   "name": "python3"
  },
  "language_info": {
   "codemirror_mode": {
    "name": "ipython",
    "version": 3
   },
   "file_extension": ".py",
   "mimetype": "text/x-python",
   "name": "python",
   "nbconvert_exporter": "python",
   "pygments_lexer": "ipython3",
   "version": "3.12.11"
  }
 },
 "nbformat": 4,
 "nbformat_minor": 2
}
