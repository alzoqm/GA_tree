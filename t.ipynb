{
 "cells": [
  {
   "cell_type": "code",
   "execution_count": 10,
   "metadata": {},
   "outputs": [],
   "source": [
    "import torch\n",
    "import os\n",
    "import shutil\n",
    "\n",
    "# --- 제공해주신 코드의 클래스들을 임포트합니다 ---\n",
    "\n",
    "# 모델 관련\n",
    "from models.model import (GATree, GATreePop, FEATURE_NUM, FEATURE_PAIR, ALL_FEATURES,\n",
    "                   COL_NODE_TYPE, NODE_TYPE_UNUSED)\n",
    "\n",
    "# 변이 연산자 관련\n",
    "from evolution.Mutation.base import BaseMutation\n",
    "from evolution.Mutation.chain import ChainMutation\n",
    "from evolution.Mutation.node_param import NodeParamMutation\n",
    "from evolution.Mutation.reinitialize_node import ReinitializeNodeMutation\n",
    "from evolution.Mutation.add_node import AddNodeMutation\n",
    "from evolution.Mutation.delete_node import DeleteNodeMutation\n",
    "from evolution.Mutation.add_subtree import AddSubtreeMutation\n",
    "from evolution.Mutation.delete_subtree import DeleteSubtreeMutation\n",
    "\n",
    "\n",
    "# --- 테스트 환경 설정 ---\n",
    "POP_SIZE = 1  # 하나의 트리에 집중하여 변화를 명확히 보기 위함\n",
    "MAX_NODES = 128\n",
    "MAX_DEPTH = 7\n",
    "MAX_CHILDREN = 3\n",
    "TEST_RESULTS_DIR = \"test_results\"\n",
    "\n",
    "# --- 테스트에 필요한 설정(config) 딕셔너리 ---\n",
    "# 변이 연산자들이 트리의 제약조건을 알아야 하므로 config가 필요합니다.\n",
    "config = {\n",
    "    'max_nodes': MAX_NODES,\n",
    "    'max_depth': MAX_DEPTH,\n",
    "    'max_children': MAX_CHILDREN,\n",
    "    'feature_num': FEATURE_NUM,\n",
    "    'feature_pair': FEATURE_PAIR,\n",
    "    'all_features': ALL_FEATURES,\n",
    "}"
   ]
  },
  {
   "cell_type": "code",
   "execution_count": 11,
   "metadata": {},
   "outputs": [
    {
     "name": "stdout",
     "output_type": "stream",
     "text": [
      "===== [Setup] Creating initial GATree population... =====\n",
      "--- Creating Tree 1/1 ---\n",
      "Tree created with 28 nodes.\n",
      "\n",
      "Population created successfully.\n",
      "Population created successfully.\n"
     ]
    }
   ],
   "source": [
    "# 1. 테스트를 위한 초기 집단 생성\n",
    "print(\"===== [Setup] Creating initial GATree population... =====\")\n",
    "initial_population = GATreePop(POP_SIZE, MAX_NODES, MAX_DEPTH, MAX_CHILDREN, FEATURE_NUM, FEATURE_PAIR)\n",
    "initial_population.make_population()\n",
    "print(\"Population created successfully.\")\n",
    "\n",
    "# 1. 테스트 전 상태 저장 (깊은 복사)\n",
    "original_tensor = initial_population.population_tensor.clone()\n",
    "\n",
    "# 원본 GATree 객체 생성 (시각화용)\n",
    "tree_before = GATree(MAX_NODES, MAX_DEPTH, MAX_CHILDREN, FEATURE_NUM, FEATURE_PAIR,\n",
    "                        data_tensor=original_tensor[0])\n",
    "\n",
    "tree_after = GATree(MAX_NODES, MAX_DEPTH, MAX_CHILDREN, FEATURE_NUM, FEATURE_PAIR,\n",
    "                        data_tensor=original_tensor[0])"
   ]
  },
  {
   "cell_type": "code",
   "execution_count": 12,
   "metadata": {},
   "outputs": [
    {
     "name": "stdout",
     "output_type": "stream",
     "text": [
      "Tree loaded successfully.\n",
      "Tree loaded successfully.\n"
     ]
    }
   ],
   "source": [
    "tree_before.load('/Users/yoon-seunggyu/Documents/GA_Tree/GA_tree/test_results/DeleteNodeMutation_before.pth')\n",
    "tree_after.load('/Users/yoon-seunggyu/Documents/GA_Tree/GA_tree/test_results/DeleteNodeMutation_after.pth')"
   ]
  },
  {
   "cell_type": "code",
   "execution_count": 15,
   "metadata": {},
   "outputs": [
    {
     "data": {
      "text/plain": [
       "tensor([ 3.0000, 36.0000,  5.0000,  1.0000,  0.8448, 27.0000,  0.0000])"
      ]
     },
     "execution_count": 15,
     "metadata": {},
     "output_type": "execute_result"
    }
   ],
   "source": [
    "tree_before.data[41]"
   ]
  },
  {
   "cell_type": "code",
   "execution_count": 16,
   "metadata": {},
   "outputs": [
    {
     "data": {
      "text/plain": [
       "tensor([ 3.0000, 36.0000,  5.0000,  1.0000,  0.8448, 27.0000,  0.0000])"
      ]
     },
     "execution_count": 16,
     "metadata": {},
     "output_type": "execute_result"
    }
   ],
   "source": [
    "tree_after.data[41]"
   ]
  },
  {
   "cell_type": "code",
   "execution_count": 17,
   "metadata": {},
   "outputs": [
    {
     "data": {
      "text/plain": [
       "42"
      ]
     },
     "execution_count": 17,
     "metadata": {},
     "output_type": "execute_result"
    }
   ],
   "source": [
    "tree_before.next_idx"
   ]
  },
  {
   "cell_type": "code",
   "execution_count": 18,
   "metadata": {},
   "outputs": [
    {
     "data": {
      "text/plain": [
       "41"
      ]
     },
     "execution_count": 18,
     "metadata": {},
     "output_type": "execute_result"
    }
   ],
   "source": [
    "tree_after.next_idx"
   ]
  },
  {
   "cell_type": "code",
   "execution_count": 24,
   "metadata": {},
   "outputs": [
    {
     "name": "stdout",
     "output_type": "stream",
     "text": [
      "\n",
      "3. Running predictions based on current position...\n",
      "-> When current position is 'SHORT', Predicted Action: ('LONG', 0.5229098200798035, 76)\n",
      "\n",
      "Prediction Demo Finished.\n",
      "Check 'prediction_demo_tree.html' to trace the prediction paths.\n"
     ]
    }
   ],
   "source": [
    "import random\n",
    "\n",
    "# 3. 현재 포지션에 따라 예측 실행\n",
    "print(\"\\n3. Running predictions based on current position...\")\n",
    "\n",
    "# Case 2: 현재 포지션이 'SHORT'일 경우\n",
    "current_pos_short = 'SHORT'\n",
    "action_short = tree_after.predict({}, current_pos_short)\n",
    "print(f\"-> When current position is '{current_pos_short}', Predicted Action: {action_short}\")\n",
    "\n",
    "\n",
    "print(\"\\nPrediction Demo Finished.\")\n",
    "print(\"Check 'prediction_demo_tree.html' to trace the prediction paths.\")"
   ]
  },
  {
   "cell_type": "code",
   "execution_count": 23,
   "metadata": {},
   "outputs": [],
   "source": [
    "tree_after.next_idx = 9"
   ]
  },
  {
   "cell_type": "code",
   "execution_count": null,
   "metadata": {},
   "outputs": [],
   "source": []
  }
 ],
 "metadata": {
  "kernelspec": {
   "display_name": "first_env",
   "language": "python",
   "name": "python3"
  },
  "language_info": {
   "codemirror_mode": {
    "name": "ipython",
    "version": 3
   },
   "file_extension": ".py",
   "mimetype": "text/x-python",
   "name": "python",
   "nbconvert_exporter": "python",
   "pygments_lexer": "ipython3",
   "version": "3.9.12"
  }
 },
 "nbformat": 4,
 "nbformat_minor": 2
}
